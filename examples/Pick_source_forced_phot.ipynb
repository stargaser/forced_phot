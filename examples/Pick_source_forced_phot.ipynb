{
 "cells": [
  {
   "cell_type": "markdown",
   "metadata": {},
   "source": [
    "# User-clickable Forced Photometry from the stack"
   ]
  },
  {
   "cell_type": "markdown",
   "metadata": {},
   "source": [
    "This notebook retrieves a coadd image and a single science exposure from Stripe 82 data, and sets up Firefly to return forced photometry from the LSST stack by clicking on a location in an image."
   ]
  },
  {
   "cell_type": "markdown",
   "metadata": {},
   "source": [
    "### Imports"
   ]
  },
  {
   "cell_type": "markdown",
   "metadata": {},
   "source": [
    "Imports for Python 2/3 compatibility."
   ]
  },
  {
   "cell_type": "code",
   "execution_count": null,
   "metadata": {
    "collapsed": true
   },
   "outputs": [],
   "source": [
    "from __future__ import print_function, division, absolute_import"
   ]
  },
  {
   "cell_type": "markdown",
   "metadata": {},
   "source": [
    "Standard library imports, and allowing the notebook server to find needed modules."
   ]
  },
  {
   "cell_type": "code",
   "execution_count": null,
   "metadata": {
    "collapsed": true
   },
   "outputs": [],
   "source": [
    "import sys\n",
    "import os\n",
    "import concurrent.futures\n",
    "import tempfile"
   ]
  },
  {
   "cell_type": "markdown",
   "metadata": {},
   "source": [
    "Imports from the LSST stack."
   ]
  },
  {
   "cell_type": "code",
   "execution_count": null,
   "metadata": {
    "collapsed": true
   },
   "outputs": [],
   "source": [
    "import lsst.afw.display as afwDisplay\n",
    "import lsst.afw.image as afwImage\n",
    "import lsst.log\n",
    "from lsst.daf.persistence import Butler"
   ]
  },
  {
   "cell_type": "markdown",
   "metadata": {},
   "source": [
    "Imports from Astropy."
   ]
  },
  {
   "cell_type": "code",
   "execution_count": null,
   "metadata": {
    "collapsed": true
   },
   "outputs": [],
   "source": [
    "from astropy.table import Table, vstack, join, Column\n",
    "from astropy.time import Time"
   ]
  },
  {
   "cell_type": "markdown",
   "metadata": {},
   "source": [
    "Import the Firefly Python client."
   ]
  },
  {
   "cell_type": "code",
   "execution_count": null,
   "metadata": {
    "collapsed": false
   },
   "outputs": [],
   "source": [
    "sys.path.insert(0,'/home/shupe/projects/firefly_client/firefly_client')\n",
    "import firefly_client\n",
    "from firefly_client import FireflyClient"
   ]
  },
  {
   "cell_type": "markdown",
   "metadata": {},
   "source": [
    "Import functions for forced photometry."
   ]
  },
  {
   "cell_type": "code",
   "execution_count": null,
   "metadata": {
    "collapsed": false
   },
   "outputs": [],
   "source": [
    "from dax_utils import get_image_table\n",
    "from stripe82phot import make_refcat, parse_phot_table, do_phot"
   ]
  },
  {
   "cell_type": "markdown",
   "metadata": {},
   "source": [
    "### Firefly setup"
   ]
  },
  {
   "cell_type": "markdown",
   "metadata": {},
   "source": [
    "Set up the FireflyClient to point to the local Firefly server."
   ]
  },
  {
   "cell_type": "code",
   "execution_count": null,
   "metadata": {
    "collapsed": true
   },
   "outputs": [],
   "source": [
    "mychannel = 'stripe82'\n",
    "fc = FireflyClient('lsst-sui-tomcat01.ncsa.illinois.edu:8080', channel=mychannel)"
   ]
  },
  {
   "cell_type": "markdown",
   "metadata": {},
   "source": [
    "At this point, make sure VPN to vpn.ncsa.illinois.edu is active. Then, open a browser window to http://lsst-sui-tomcat01.ncsa.illinois.edu:8080/firefly/lsst-pdac-triview.html;wsch=stripe82"
   ]
  },
  {
   "cell_type": "markdown",
   "metadata": {},
   "source": [
    "Helper function to do forced photometry for a dataId and to return None if an exception is encountered. The dataId for SDSS data is specified by run, field, camcol, filter."
   ]
  },
  {
   "cell_type": "code",
   "execution_count": null,
   "metadata": {
    "collapsed": true
   },
   "outputs": [],
   "source": [
    "def do_one(dataId):\n",
    "    global src_cat\n",
    "    try:\n",
    "        rval = do_phot(dataId=dataId, refCat=src_cat)\n",
    "    except:\n",
    "        return\n",
    "    return(rval)"
   ]
  },
  {
   "cell_type": "markdown",
   "metadata": {},
   "source": [
    "Define a function to retrieve forced photometry for a specified RA, Dec, filter_name."
   ]
  },
  {
   "cell_type": "code",
   "execution_count": null,
   "metadata": {
    "collapsed": false
   },
   "outputs": [],
   "source": [
    "def fetch_forcedphot(ra, dec, filter_name):\n",
    "    lsst.log.setLevel('', lsst.log.INFO)\n",
    "    import numpy as np\n",
    "    np.seterr(all='ignore')\n",
    "    lsst.log.info('Querying for list of science exposures at this point')\n",
    "    df_f = get_image_table(ra, dec, filter_name, 'Science_Ccd_Exposure')\n",
    "    if df_f is None:\n",
    "        lsst.log.error('Query returned null')\n",
    "        return\n",
    "    df_f['img_url'] = df_f.scienceCcdExposureId.map(lambda x: \n",
    "            'http://lsst-qserv-dax01.ncsa.illinois.edu:5000/image/v0/calexp/id?id=' + str(x))\n",
    "    lsst.log.info('Retrieved table of {} science exposures'.format(len(df_f)))\n",
    "    ids = [{'run':row.run, 'field':row.field, 'camcol':row.camcol, \n",
    "            'filter':row.filterName.encode()} \n",
    "            for index, row in df_f.iterrows()]\n",
    "    global src_cat\n",
    "    # Make a catalog for the specified RA, Dec\n",
    "    src_cat = make_refcat([ra], [dec])\n",
    "    with concurrent.futures.ProcessPoolExecutor(max_workers=5) as executor:\n",
    "        results = executor.map(do_one, ids)\n",
    "    # Discard None results where an exception was raised in the forced photometry task\n",
    "    afwtabs = [r for r in results if r is not None]\n",
    "    # Convert afwTable objects to Astropy tables, applying calibration\n",
    "    tbl_list = [parse_phot_table(t) for t in afwtabs]\n",
    "    alltabs = vstack(tbl_list)\n",
    "    # merge the\n",
    "    intab = Table.from_pandas(df_f)\n",
    "    outtab = join(alltabs, intab, keys=['run','camcol','field','filterName'],\n",
    "                  join_type='left')\n",
    "    t = Time(outtab['expMidpt'], format='isot', scale='utc')\n",
    "    outtab['mjd'] = t.mjd\n",
    "    outtab.sort('mjd')\n",
    "    outtab['ra'] = outtab['coord_ra'].to('deg')\n",
    "    outtab['dec'] = outtab['coord_dec'].to('deg')\n",
    "    mycols = ['mjd','base_PsfFlux_flux','base_PsfFlux_fluxSigma', 'ra','dec',\n",
    "            'expMidpt','run','field','camcol','filterName',\n",
    "            'objectId','base_RaDecCentroid_x', 'base_RaDecCentroid_y', \n",
    "            'psfMag', 'psfMagErr', 'img_url']\n",
    "    outtab.keep_columns(mycols)\n",
    "    newtab = outtab[mycols]\n",
    "    return(newtab)"
   ]
  },
  {
   "cell_type": "markdown",
   "metadata": {},
   "source": [
    "The callback function applies `fetch_forcedphot` when activated in Firefly."
   ]
  },
  {
   "cell_type": "code",
   "execution_count": null,
   "metadata": {
    "collapsed": false
   },
   "outputs": [],
   "source": [
    "def callback_forcedphot(event):\n",
    "    global src_cat\n",
    "    if 'wpt' in event['data']:\n",
    "        wpt = event['data']['wpt']\n",
    "        wdata = wpt.split(';')\n",
    "        ra = float(wdata[0])\n",
    "        dec = float(wdata[1])\n",
    "        outtab = fetch_forcedphot(ra, dec, myfilter)\n",
    "        if outtab is None:\n",
    "            lsst.log.error('No photometry returned')\n",
    "            return\n",
    "        outtab.write('fout.tbl', format='ipac')\n",
    "        with open('fout.tbl', 'r') as original: \n",
    "            data = original.read()\n",
    "        with open('fout.tbl', 'w') as modified: \n",
    "            modified.write(\"\\datasource = img_url\\n\" + \n",
    "                           \"\\positionCoordColumns = ra;dec;EQ_J2000\\n\" +\n",
    "                           data)\n",
    "        tval = fc.upload_file('fout.tbl')\n",
    "        fc.show_table(tval, tbl_id='Forced Phot')\n",
    "        fc.show_xyplot(tbl_id='Forced Phot', xCol='mjd', yCol='base_PsfFlux_flux',\n",
    "                      yError='base_PsfFlux_fluxSigma', yOptions='grid')"
   ]
  },
  {
   "cell_type": "markdown",
   "metadata": {},
   "source": [
    "Add the callback (on the Firefly server)."
   ]
  },
  {
   "cell_type": "code",
   "execution_count": null,
   "metadata": {
    "collapsed": false
   },
   "outputs": [],
   "source": [
    "plistner = fc.add_listener(callback_forcedphot)"
   ]
  },
  {
   "cell_type": "markdown",
   "metadata": {},
   "source": [
    "### Coordinates and filter specification, and image retrieval"
   ]
  },
  {
   "cell_type": "markdown",
   "metadata": {},
   "source": [
    "A very nice variable source is at RA=45.804433, Dec=0.905573. (For name resolvers, it is V\\* GI Cet.) Here it is used just for image retrieval, along with the specified filter name.\n",
    "\n",
    "Other high-amplitude variables with P > 50 days, rAmpl > 3.0:\n",
    "\n",
    "* 25.612807 0.291621, ID=1340590, rAmpl=3.217, P=2958d. (2SLAQ J014227.07+001729.8 -- Star.)\n",
    "* 28.930942 0.468687, ID=1261335, rAmpl=4.146, P=3321 d. (V\\* FL Cet -- CV of AM Her type (polar) -- the period is really 87 minutes.)\n",
    "\n",
    "Shorter periods:\n",
    "\n",
    "* 10.62013 -0.869339, ID=196130, iAmpl=8.059, P=0.6d. (SDSS J004228.83-005210.4, White Dwarf.)\n",
    "\n",
    "QSOs:\n",
    "\n",
    "* 2.87667 0.964417 ID=68411, iAmpl=2.218, P=2875 days, ([VV2006] J001130.4+005751 -- Quasar.)\n",
    "* 319.572495 0.221337, id=2655567, iAmpl=3.113, P=1453 days\n",
    "\n",
    "* UGC 2479 is 45.167525 0.020461\n",
    "\n",
    "You may specify any coordinates in the DC_2013 Stripe 82 processing, and any filter from u,g,r,i,z."
   ]
  },
  {
   "cell_type": "code",
   "execution_count": null,
   "metadata": {
    "collapsed": true
   },
   "outputs": [],
   "source": [
    "myra = 25.6\n",
    "mydec = 0.3\n",
    "myfilter = u'z'"
   ]
  },
  {
   "cell_type": "markdown",
   "metadata": {},
   "source": [
    "Read coadds from the butler -- locate with a DAX call"
   ]
  },
  {
   "cell_type": "code",
   "execution_count": null,
   "metadata": {
    "collapsed": false
   },
   "outputs": [],
   "source": [
    "df_deep = get_image_table(myra, mydec, myfilter, 'DeepCoadd')\n",
    "len(df_deep)"
   ]
  },
  {
   "cell_type": "code",
   "execution_count": null,
   "metadata": {
    "collapsed": false
   },
   "outputs": [],
   "source": [
    "df_deep"
   ]
  },
  {
   "cell_type": "code",
   "execution_count": null,
   "metadata": {
    "collapsed": true
   },
   "outputs": [],
   "source": [
    "dbutler = Butler('/datasets/sdss/preprocessed/dr7/sdss_stripe82_00/coadd')"
   ]
  },
  {
   "cell_type": "code",
   "execution_count": null,
   "metadata": {
    "collapsed": true
   },
   "outputs": [],
   "source": [
    "coadd = dbutler.get('deepCoadd', tract=df_deep.tract.values[0],\n",
    "                       patch=df_deep.patch.values[0],\n",
    "                        filter=df_deep.filterName.values[0])"
   ]
  },
  {
   "cell_type": "markdown",
   "metadata": {},
   "source": [
    "### Display images and interact with them"
   ]
  },
  {
   "cell_type": "markdown",
   "metadata": {},
   "source": [
    "Add the extension to make a button labeled 'Forced Phot' when in Point (Lock by click) mode in Firefly."
   ]
  },
  {
   "cell_type": "markdown",
   "metadata": {},
   "source": [
    "Define a display using the LSST stack, pointing to the same location."
   ]
  },
  {
   "cell_type": "code",
   "execution_count": null,
   "metadata": {
    "collapsed": true
   },
   "outputs": [],
   "source": [
    "display1 = afwDisplay.Display(frame=1, backend='firefly', name=mychannel)"
   ]
  },
  {
   "cell_type": "code",
   "execution_count": null,
   "metadata": {
    "collapsed": false
   },
   "outputs": [],
   "source": [
    "display1.mtv(coadd, title='Deep {}, Id {}'.format(myfilter, df_deep.deepCoaddId.values[0]))"
   ]
  },
  {
   "cell_type": "code",
   "execution_count": null,
   "metadata": {
    "collapsed": false
   },
   "outputs": [],
   "source": [
    "fc.add_extension('POINT', '1', 'Forced Phot', 'fetch forced photometry',\n",
    "                extension_id='fphot');"
   ]
  },
  {
   "cell_type": "markdown",
   "metadata": {
    "collapsed": true
   },
   "source": [
    "* Go to Firefly tab, click inside deep image.\n",
    "* Select source for forced photometry. \n",
    "* Click on 'Forced Phot' option above image.\n",
    "\n",
    "Forced photometry table should appear in Firefly after 15-20 seconds."
   ]
  }
 ],
 "metadata": {
  "kernelspec": {
   "display_name": "Python 2",
   "language": "python",
   "name": "python2"
  },
  "language_info": {
   "codemirror_mode": {
    "name": "ipython",
    "version": 2
   },
   "file_extension": ".py",
   "mimetype": "text/x-python",
   "name": "python",
   "nbconvert_exporter": "python",
   "pygments_lexer": "ipython2",
   "version": "2.7.12"
  }
 },
 "nbformat": 4,
 "nbformat_minor": 2
}
